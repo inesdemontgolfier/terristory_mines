{
 "cells": [
  {
   "cell_type": "code",
   "execution_count": 2,
   "metadata": {},
   "outputs": [
    {
     "name": "stdout",
     "output_type": "stream",
     "text": [
      "The Zen of Python, by Tim Peters\n",
      "\n",
      "Beautiful is better than ugly.\n",
      "Explicit is better than implicit.\n",
      "Simple is better than complex.\n",
      "Complex is better than complicated.\n",
      "Flat is better than nested.\n",
      "Sparse is better than dense.\n",
      "Readability counts.\n",
      "Special cases aren't special enough to break the rules.\n",
      "Although practicality beats purity.\n",
      "Errors should never pass silently.\n",
      "Unless explicitly silenced.\n",
      "In the face of ambiguity, refuse the temptation to guess.\n",
      "There should be one-- and preferably only one --obvious way to do it.\n",
      "Although that way may not be obvious at first unless you're Dutch.\n",
      "Now is better than never.\n",
      "Although never is often better than *right* now.\n",
      "If the implementation is hard to explain, it's a bad idea.\n",
      "If the implementation is easy to explain, it may be a good idea.\n",
      "Namespaces are one honking great idea -- let's do more of those!\n"
     ]
    }
   ],
   "source": [
    "from this import d\n",
    "from typing_extensions import dataclass_transform\n",
    "import psycopg2\n",
    "import datetime\n",
    "from matplotlib import pyplot as plt"
   ]
  },
  {
   "cell_type": "code",
   "execution_count": 5,
   "metadata": {},
   "outputs": [
    {
     "name": "stdout",
     "output_type": "stream",
     "text": [
      "2022-06\n",
      "2021 6\n"
     ]
    }
   ],
   "source": [
    "today=str(datetime.date.today())[0:-3]\n",
    "print(today)\n",
    "year=int(today[0:4])-1\n",
    "month=int(today[-2:])\n",
    "print(year,month)"
   ]
  },
  {
   "cell_type": "code",
   "execution_count": 7,
   "metadata": {},
   "outputs": [
    {
     "name": "stdout",
     "output_type": "stream",
     "text": [
      "2021-06\n"
     ]
    }
   ],
   "source": [
    "def date_to_string(year,month):\n",
    "    date = \"{}-{:02}\".format(year,month)\n",
    "    return date\n",
    "\n",
    "this_month = date_to_string(year,month)\n",
    "print(this_month)"
   ]
  },
  {
   "cell_type": "code",
   "execution_count": 8,
   "metadata": {},
   "outputs": [
    {
     "name": "stdout",
     "output_type": "stream",
     "text": [
      "['2021-07', '2021-08', '2021-09', '2021-10', '2021-11', '2021-12', '2022-01', '2022-02', '2022-03', '2022-04', '2022-05', '2022-06']\n"
     ]
    }
   ],
   "source": [
    "months=[]\n",
    "for i in range (0,12):\n",
    "    if month == 12:\n",
    "        year +=1\n",
    "        month = 1\n",
    "    else:\n",
    "        month+=1\n",
    "    months.append(str(date_to_string(year,month)))\n",
    "print(months)"
   ]
  },
  {
   "cell_type": "code",
   "execution_count": 14,
   "metadata": {},
   "outputs": [
    {
     "name": "stdout",
     "output_type": "stream",
     "text": [
      "[225, 31, 56, 39, 31, 81, 32, 5, 15, 31, 0, 0, 0]\n"
     ]
    }
   ],
   "source": [
    "#!/usr/bin/python3\n",
    "# http://initd.org/psycopg/docs/usage.html\n",
    "from this import d\n",
    "from typing_extensions import dataclass_transform\n",
    "import psycopg2\n",
    "import datetime\n",
    "from matplotlib import pyplot as plt\n",
    "HOST = \"localhost\"\n",
    "USER = \"postgres\"\n",
    "PASSWORD = \"postgres\"\n",
    "DATABASE = \"postgres\"\n",
    "# Open connection\n",
    "conn = psycopg2.connect(\"host=%s dbname=%s user=%s password=%s\" % (HOST, DATABASE, USER, PASSWORD))\n",
    "# Open a cursor to send SQL commands\n",
    "cur = conn.cursor()\n",
    "def monthly_connections(date):\n",
    "    sql = \"SELECT COUNT(*) FROM consultations.analyses_territoriales WHERE date::text LIKE {}\".format(date)\n",
    "    cur.execute(sql)\n",
    "# Fetch data line by line\n",
    "    raw = cur.fetchone()\n",
    "    return raw[0]\n",
    "\n",
    "months=[]\n",
    "\n",
    "#select only the month and the year\n",
    "today=str(datetime.date.today())[0:-3]\n",
    "\n",
    "#we chose to visiualize datas for 1 year\n",
    "year=int(today[0:4])-1\n",
    "month=int(today[-2:])\n",
    "\n",
    "def date_to_string(year,month):\n",
    "    date = \"{}-{:02}\".format(year,month)\n",
    "    return date\n",
    "\n",
    "this_month = date_to_string(year,month)\n",
    "\n",
    "months.append(this_month)\n",
    "for i in range (0,12):\n",
    "    if month == 12:\n",
    "        year +=1\n",
    "        month = 1\n",
    "    else:\n",
    "        month+=1\n",
    "    months.append(str(date_to_string(year,month)))\n",
    "\n",
    "data_connections=[]\n",
    "for month in months:\n",
    "    try :\n",
    "        data_connections.append(monthly_connections(\"'{}%'\".format(month)))\n",
    "    except :\n",
    "        data_connections.append(0)\n",
    "\n",
    "conn.close()\n",
    "\n",
    "print(data_connections)"
   ]
  },
  {
   "cell_type": "code",
   "execution_count": null,
   "metadata": {},
   "outputs": [],
   "source": []
  }
 ],
 "metadata": {
  "interpreter": {
   "hash": "916dbcbb3f70747c44a77c7bcd40155683ae19c65e1c03b4aa3499c5328201f1"
  },
  "kernelspec": {
   "display_name": "Python 3.8.10 64-bit",
   "language": "python",
   "name": "python3"
  },
  "language_info": {
   "codemirror_mode": {
    "name": "ipython",
    "version": 3
   },
   "file_extension": ".py",
   "mimetype": "text/x-python",
   "name": "python",
   "nbconvert_exporter": "python",
   "pygments_lexer": "ipython3",
   "version": "3.8.10"
  },
  "orig_nbformat": 4
 },
 "nbformat": 4,
 "nbformat_minor": 2
}
