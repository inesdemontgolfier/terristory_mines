{
 "cells": [
  {
   "cell_type": "code",
   "execution_count": 26,
   "metadata": {},
   "outputs": [],
   "source": [
    "from typing_extensions import dataclass_transform\n",
    "import psycopg2\n",
    "import datetime\n",
    "from matplotlib import pyplot as plt\n",
    "HOST = \"localhost\"\n",
    "USER = \"postgres\"\n",
    "PASSWORD = \"postgres\"\n",
    "DATABASE = \"postgres\"\n",
    "# Open connection\n",
    "conn = psycopg2.connect(\"host=%s dbname=%s user=%s password=%s\" % (HOST, DATABASE, USER, PASSWORD))\n",
    "# Open a cursor to send SQL commands\n",
    "cur = conn.cursor()\n",
    "\n"
   ]
  },
  {
   "cell_type": "code",
   "execution_count": 28,
   "metadata": {},
   "outputs": [
    {
     "name": "stdout",
     "output_type": "stream",
     "text": [
      "<function nb_consultations_traj at 0x7f69429d5790>\n"
     ]
    }
   ],
   "source": [
    "## AFFCIHAGE DE LA PROPORTION DE CONSULTATIONS PASSANT PAR LA PAGE SUIVI TRAJECTOIRE\n",
    "def nb_consultations_traj():\n",
    "    sql= \"SELECT COUNT(*) FROM consultations.analyses_territoriales WHERE page='suivi_trajectoire'\"\n",
    "    \n",
    "    cur.execute(sql)\n",
    "    \n",
    "    # Fetch data line by line\n",
    "    raw = cur.fetchone()\n",
    "    return raw[0]\n",
    "\n",
    "print(nb_consultations_traj)"
   ]
  },
  {
   "cell_type": "code",
   "execution_count": 32,
   "metadata": {},
   "outputs": [],
   "source": [
    "from typing_extensions import dataclass_transform\n",
    "import psycopg2\n",
    "from matplotlib import pyplot as plt\n",
    "import numpy as np\n",
    "import pandas as pd\n",
    "\n",
    "from irrégularités import correction_themes, correction_noms\n",
    "\n",
    "HOST = \"localhost\"\n",
    "USER = \"postgres\"\n",
    "PASSWORD = \"postgres\"\n",
    "DATABASE = \"postgres\"\n",
    "# Open connection\n",
    "conn = psycopg2.connect(\"host=%s dbname=%s user=%s password=%s\" % (HOST, DATABASE, USER, PASSWORD))\n",
    "# Open a cursor to send SQL commands\n",
    "cur = conn.cursor()\n",
    "\n",
    "sql = \"\"\"SELECT consultations.consultations_indicateurs.id_indicateur,\n",
    "meta.indicateur.nom,\n",
    "meta.indicateur.ui_theme,\n",
    "consultations.consultations_indicateurs.date,\n",
    "consultations.consultations_indicateurs.region,\n",
    "consultations.consultations_indicateurs.provenance\n",
    "FROM consultations.consultations_indicateurs\n",
    "LEFT JOIN meta.indicateur ON consultations.consultations_indicateurs.id_indicateur = meta.indicateur.id;\"\"\"\n",
    "cur.execute(sql)\n",
    "raw = cur.fetchall()\n",
    "\n",
    "\n",
    "sql1=\"SELECT * FROM consultations.consultations_indicateurs WHERE consultations.consultations_indicateurs.provenance NOT LIKE 'tableaux_de_bord'\"\n",
    "cur.execute(sql1)\n",
    "raw1 = cur.fetchall()\n",
    "\n",
    "conn.close()\n",
    "\n",
    "df = pd.DataFrame(raw, columns=[\"id_indicateur\", \"nom\", \"ui_theme\", \"date\", \"region\", \"provenance\"])\n",
    "\n",
    "df = correction_themes(df)\n",
    "df = correction_noms(df)\n"
   ]
  },
  {
   "cell_type": "code",
   "execution_count": 31,
   "metadata": {},
   "outputs": [
    {
     "name": "stdout",
     "output_type": "stream",
     "text": [
      "(20622, 6)\n",
      "(698, 6)\n"
     ]
    }
   ],
   "source": [
    "## si on veut exclure la provenance tableaux de bord car elle biaise les proportions\n",
    "liste=[]\n",
    "for i in range(df.shape[0]):\n",
    "    if df.provenance[i]!=\"tableaux_de_bord\":\n",
    "        liste.append(i)\n",
    "\n",
    "\n",
    "df_new=df.drop(liste)\n",
    "\n",
    "print(df.shape)\n",
    "print(df_new.shape)\n",
    "\n",
    "\n"
   ]
  }
 ],
 "metadata": {
  "interpreter": {
   "hash": "916dbcbb3f70747c44a77c7bcd40155683ae19c65e1c03b4aa3499c5328201f1"
  },
  "kernelspec": {
   "display_name": "Python 3.8.10 64-bit",
   "language": "python",
   "name": "python3"
  },
  "language_info": {
   "codemirror_mode": {
    "name": "ipython",
    "version": 3
   },
   "file_extension": ".py",
   "mimetype": "text/x-python",
   "name": "python",
   "nbconvert_exporter": "python",
   "pygments_lexer": "ipython3",
   "version": "3.8.10"
  },
  "orig_nbformat": 4
 },
 "nbformat": 4,
 "nbformat_minor": 2
}
